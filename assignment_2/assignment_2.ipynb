{
 "cells": [
  {
   "cell_type": "markdown",
   "metadata": {},
   "source": [
    "# Coding Assignment 2: Image Classification with Deep Learning Methods\n",
    "\n",
    "Machine Learning (BBWL), University of St. Gallen, Spring Term 2022, Michael Mommert"
   ]
  },
  {
   "cell_type": "markdown",
   "metadata": {},
   "source": [
    "# Technicalities\n",
    "\n",
    "This Jupyter Notebook contains your first MLBBWL coding assignment. Please work on this assignment in groups of ~5 students - those groups should be same groups as in assignment 1. The names of all students, who work in one team on this specific assignment, must be listed below. Please note that assignment groups cannot change in the course of the semester.\n",
    "\n",
    "This assigment must be submitted via email to [aiml-teaching.ics@unisg.ch](aiml-teaching.ics@unisg.ch) (subject line: MLBBWL coding assignment 2) by **May 24, 23:59** at the latest.\n",
    "\n",
    "Also, the results from this notebook must be presented at the final presentation on May 25. Students should be able to answer questions on design decisions in this Notebook and the underlying methods. Each student must be able to answer questions to either of the two assignments, but not necessarily both, which means that it is perfectly fine to split each group into an assignment-1 subgroup and an assignment-2 subgroup.\n",
    "\n",
    "# Grading\n",
    "\n",
    "The grading of both coding assignments is done based on the following criteria:\n",
    "* **Code and Method implementation and documentation** (clean and well-structured code and Notebook, inline documentation where useful, markdown text, plots where useful, analysis of results)\n",
    "* **ML approach novelty** (does the approach go beyond what we did in the lab?)\n",
    "* **ML approach Q&A** (can the students who worked on the traditional ML approach explain their code, design ideas, issues etc.)\n",
    "* **DL approach novelty** (does the approach go beyond what we did in the lab?)\n",
    "* **DL approach Q&A** (can the students who worked on the DL approach explain their code, design ideas, issues etc.)\n",
    "* **Presentation quality** (are the slides complete and understandable?)"
   ]
  },
  {
   "cell_type": "markdown",
   "metadata": {},
   "source": [
    "\n",
    "# Task Description\n",
    "\n",
    "The goal of this assignment is to write code that performs well on the task of **image classification based on the CiFAR-10 data set**.\n",
    "\n",
    "The CiFAR-10 data set consists of 50,000 training images, each 32x32 color images, that fall into one out of 10 classes. In addition, an independent test data set of 10,000 image is available on which the model will be evaluated. The model will be evaluated based on the **accuracy** metric based on the **test** data set.\n",
    "\n",
    "<table cellspacing=\"0\" cellpadding=\"0\">\n",
    "    <tr>\n",
    "        <td class=\"cifar-class-name\">airplane</td>\n",
    "        <td><img src=\"https://www.cs.toronto.edu/~kriz/cifar-10-sample/airplane1.png\" class=\"cifar-sample\" /></td>\n",
    "        <td><img src=\"https://www.cs.toronto.edu/~kriz/cifar-10-sample/airplane2.png\" class=\"cifar-sample\" /></td>\n",
    "        <td><img src=\"https://www.cs.toronto.edu/~kriz/cifar-10-sample/airplane3.png\" class=\"cifar-sample\" /></td>\n",
    "        <td><img src=\"https://www.cs.toronto.edu/~kriz/cifar-10-sample/airplane4.png\" class=\"cifar-sample\" /></td>\n",
    "        <td><img src=\"https://www.cs.toronto.edu/~kriz/cifar-10-sample/airplane5.png\" class=\"cifar-sample\" /></td>\n",
    "        <td><img src=\"https://www.cs.toronto.edu/~kriz/cifar-10-sample/airplane6.png\" class=\"cifar-sample\" /></td>\n",
    "        <td><img src=\"https://www.cs.toronto.edu/~kriz/cifar-10-sample/airplane7.png\" class=\"cifar-sample\" /></td>\n",
    "        <td><img src=\"https://www.cs.toronto.edu/~kriz/cifar-10-sample/airplane8.png\" class=\"cifar-sample\" /></td>\n",
    "        <td><img src=\"https://www.cs.toronto.edu/~kriz/cifar-10-sample/airplane9.png\" class=\"cifar-sample\" /></td>\n",
    "        <td><img src=\"https://www.cs.toronto.edu/~kriz/cifar-10-sample/airplane10.png\" class=\"cifar-sample\" /></td>\n",
    "    </tr>\n",
    "    <tr>\n",
    "        <td class=\"cifar-class-name\">automobile</td>\n",
    "        <td><img src=\"https://www.cs.toronto.edu/~kriz/cifar-10-sample/automobile1.png\" class=\"cifar-sample\" /></td>\n",
    "        <td><img src=\"https://www.cs.toronto.edu/~kriz/cifar-10-sample/automobile2.png\" class=\"cifar-sample\" /></td>\n",
    "        <td><img src=\"https://www.cs.toronto.edu/~kriz/cifar-10-sample/automobile3.png\" class=\"cifar-sample\" /></td>\n",
    "        <td><img src=\"https://www.cs.toronto.edu/~kriz/cifar-10-sample/automobile4.png\" class=\"cifar-sample\" /></td>\n",
    "        <td><img src=\"https://www.cs.toronto.edu/~kriz/cifar-10-sample/automobile5.png\" class=\"cifar-sample\" /></td>\n",
    "        <td><img src=\"https://www.cs.toronto.edu/~kriz/cifar-10-sample/automobile6.png\" class=\"cifar-sample\" /></td>\n",
    "        <td><img src=\"https://www.cs.toronto.edu/~kriz/cifar-10-sample/automobile7.png\" class=\"cifar-sample\" /></td>\n",
    "        <td><img src=\"https://www.cs.toronto.edu/~kriz/cifar-10-sample/automobile8.png\" class=\"cifar-sample\" /></td>\n",
    "        <td><img src=\"https://www.cs.toronto.edu/~kriz/cifar-10-sample/automobile9.png\" class=\"cifar-sample\" /></td>\n",
    "        <td><img src=\"https://www.cs.toronto.edu/~kriz/cifar-10-sample/automobile10.png\" class=\"cifar-sample\" /></td>\n",
    "    </tr>\n",
    "    <tr>\n",
    "        <td class=\"cifar-class-name\">bird</td>\n",
    "        <td><img src=\"https://www.cs.toronto.edu/~kriz/cifar-10-sample/bird1.png\" class=\"cifar-sample\" /></td>\n",
    "        <td><img src=\"https://www.cs.toronto.edu/~kriz/cifar-10-sample/bird2.png\" class=\"cifar-sample\" /></td>\n",
    "        <td><img src=\"https://www.cs.toronto.edu/~kriz/cifar-10-sample/bird3.png\" class=\"cifar-sample\" /></td>\n",
    "        <td><img src=\"https://www.cs.toronto.edu/~kriz/cifar-10-sample/bird4.png\" class=\"cifar-sample\" /></td>\n",
    "        <td><img src=\"https://www.cs.toronto.edu/~kriz/cifar-10-sample/bird5.png\" class=\"cifar-sample\" /></td>\n",
    "        <td><img src=\"https://www.cs.toronto.edu/~kriz/cifar-10-sample/bird6.png\" class=\"cifar-sample\" /></td>\n",
    "        <td><img src=\"https://www.cs.toronto.edu/~kriz/cifar-10-sample/bird7.png\" class=\"cifar-sample\" /></td>\n",
    "        <td><img src=\"https://www.cs.toronto.edu/~kriz/cifar-10-sample/bird8.png\" class=\"cifar-sample\" /></td>\n",
    "        <td><img src=\"https://www.cs.toronto.edu/~kriz/cifar-10-sample/bird9.png\" class=\"cifar-sample\" /></td>\n",
    "        <td><img src=\"https://www.cs.toronto.edu/~kriz/cifar-10-sample/bird10.png\" class=\"cifar-sample\" /></td>\n",
    "    </tr>\n",
    "    <tr>\n",
    "        <td class=\"cifar-class-name\">cat</td>\n",
    "        <td><img src=\"https://www.cs.toronto.edu/~kriz/cifar-10-sample/cat1.png\" class=\"cifar-sample\" /></td>\n",
    "        <td><img src=\"https://www.cs.toronto.edu/~kriz/cifar-10-sample/cat2.png\" class=\"cifar-sample\" /></td>\n",
    "        <td><img src=\"https://www.cs.toronto.edu/~kriz/cifar-10-sample/cat3.png\" class=\"cifar-sample\" /></td>\n",
    "        <td><img src=\"https://www.cs.toronto.edu/~kriz/cifar-10-sample/cat4.png\" class=\"cifar-sample\" /></td>\n",
    "        <td><img src=\"https://www.cs.toronto.edu/~kriz/cifar-10-sample/cat5.png\" class=\"cifar-sample\" /></td>\n",
    "        <td><img src=\"https://www.cs.toronto.edu/~kriz/cifar-10-sample/cat6.png\" class=\"cifar-sample\" /></td>\n",
    "        <td><img src=\"https://www.cs.toronto.edu/~kriz/cifar-10-sample/cat7.png\" class=\"cifar-sample\" /></td>\n",
    "        <td><img src=\"https://www.cs.toronto.edu/~kriz/cifar-10-sample/cat8.png\" class=\"cifar-sample\" /></td>\n",
    "        <td><img src=\"https://www.cs.toronto.edu/~kriz/cifar-10-sample/cat9.png\" class=\"cifar-sample\" /></td>\n",
    "        <td><img src=\"https://www.cs.toronto.edu/~kriz/cifar-10-sample/cat10.png\" class=\"cifar-sample\" /></td>\n",
    "    </tr>\n",
    "    <tr>\n",
    "        <td class=\"cifar-class-name\">deer</td>\n",
    "        <td><img src=\"https://www.cs.toronto.edu/~kriz/cifar-10-sample/deer1.png\" class=\"cifar-sample\" /></td>\n",
    "        <td><img src=\"https://www.cs.toronto.edu/~kriz/cifar-10-sample/deer2.png\" class=\"cifar-sample\" /></td>\n",
    "        <td><img src=\"https://www.cs.toronto.edu/~kriz/cifar-10-sample/deer3.png\" class=\"cifar-sample\" /></td>\n",
    "        <td><img src=\"https://www.cs.toronto.edu/~kriz/cifar-10-sample/deer4.png\" class=\"cifar-sample\" /></td>\n",
    "        <td><img src=\"https://www.cs.toronto.edu/~kriz/cifar-10-sample/deer5.png\" class=\"cifar-sample\" /></td>\n",
    "        <td><img src=\"https://www.cs.toronto.edu/~kriz/cifar-10-sample/deer6.png\" class=\"cifar-sample\" /></td>\n",
    "        <td><img src=\"https://www.cs.toronto.edu/~kriz/cifar-10-sample/deer7.png\" class=\"cifar-sample\" /></td>\n",
    "        <td><img src=\"https://www.cs.toronto.edu/~kriz/cifar-10-sample/deer8.png\" class=\"cifar-sample\" /></td>\n",
    "        <td><img src=\"https://www.cs.toronto.edu/~kriz/cifar-10-sample/deer9.png\" class=\"cifar-sample\" /></td>\n",
    "        <td><img src=\"https://www.cs.toronto.edu/~kriz/cifar-10-sample/deer10.png\" class=\"cifar-sample\" /></td>\n",
    "    </tr>\n",
    "    <tr>\n",
    "        <td class=\"cifar-class-name\">dog</td>\n",
    "        <td><img src=\"https://www.cs.toronto.edu/~kriz/cifar-10-sample/dog1.png\" class=\"cifar-sample\" /></td>\n",
    "        <td><img src=\"https://www.cs.toronto.edu/~kriz/cifar-10-sample/dog2.png\" class=\"cifar-sample\" /></td>\n",
    "        <td><img src=\"https://www.cs.toronto.edu/~kriz/cifar-10-sample/dog3.png\" class=\"cifar-sample\" /></td>\n",
    "        <td><img src=\"https://www.cs.toronto.edu/~kriz/cifar-10-sample/dog4.png\" class=\"cifar-sample\" /></td>\n",
    "        <td><img src=\"https://www.cs.toronto.edu/~kriz/cifar-10-sample/dog5.png\" class=\"cifar-sample\" /></td>\n",
    "        <td><img src=\"https://www.cs.toronto.edu/~kriz/cifar-10-sample/dog6.png\" class=\"cifar-sample\" /></td>\n",
    "        <td><img src=\"https://www.cs.toronto.edu/~kriz/cifar-10-sample/dog7.png\" class=\"cifar-sample\" /></td>\n",
    "        <td><img src=\"https://www.cs.toronto.edu/~kriz/cifar-10-sample/dog8.png\" class=\"cifar-sample\" /></td>\n",
    "        <td><img src=\"https://www.cs.toronto.edu/~kriz/cifar-10-sample/dog9.png\" class=\"cifar-sample\" /></td>\n",
    "        <td><img src=\"https://www.cs.toronto.edu/~kriz/cifar-10-sample/dog10.png\" class=\"cifar-sample\" /></td>\n",
    "    </tr>\n",
    "    <tr>\n",
    "        <td class=\"cifar-class-name\">frog</td>\n",
    "        <td><img src=\"https://www.cs.toronto.edu/~kriz/cifar-10-sample/frog1.png\" class=\"cifar-sample\" /></td>\n",
    "        <td><img src=\"https://www.cs.toronto.edu/~kriz/cifar-10-sample/frog2.png\" class=\"cifar-sample\" /></td>\n",
    "        <td><img src=\"https://www.cs.toronto.edu/~kriz/cifar-10-sample/frog3.png\" class=\"cifar-sample\" /></td>\n",
    "        <td><img src=\"https://www.cs.toronto.edu/~kriz/cifar-10-sample/frog4.png\" class=\"cifar-sample\" /></td>\n",
    "        <td><img src=\"https://www.cs.toronto.edu/~kriz/cifar-10-sample/frog5.png\" class=\"cifar-sample\" /></td>\n",
    "        <td><img src=\"https://www.cs.toronto.edu/~kriz/cifar-10-sample/frog6.png\" class=\"cifar-sample\" /></td>\n",
    "        <td><img src=\"https://www.cs.toronto.edu/~kriz/cifar-10-sample/frog7.png\" class=\"cifar-sample\" /></td>\n",
    "        <td><img src=\"https://www.cs.toronto.edu/~kriz/cifar-10-sample/frog8.png\" class=\"cifar-sample\" /></td>\n",
    "        <td><img src=\"https://www.cs.toronto.edu/~kriz/cifar-10-sample/frog9.png\" class=\"cifar-sample\" /></td>\n",
    "        <td><img src=\"https://www.cs.toronto.edu/~kriz/cifar-10-sample/frog10.png\" class=\"cifar-sample\" /></td>\n",
    "    </tr>\n",
    "    <tr>\n",
    "        <td class=\"cifar-class-name\">horse</td>\n",
    "        <td><img src=\"https://www.cs.toronto.edu/~kriz/cifar-10-sample/horse1.png\" class=\"cifar-sample\" /></td>\n",
    "        <td><img src=\"https://www.cs.toronto.edu/~kriz/cifar-10-sample/horse2.png\" class=\"cifar-sample\" /></td>\n",
    "        <td><img src=\"https://www.cs.toronto.edu/~kriz/cifar-10-sample/horse3.png\" class=\"cifar-sample\" /></td>\n",
    "        <td><img src=\"https://www.cs.toronto.edu/~kriz/cifar-10-sample/horse4.png\" class=\"cifar-sample\" /></td>\n",
    "        <td><img src=\"https://www.cs.toronto.edu/~kriz/cifar-10-sample/horse5.png\" class=\"cifar-sample\" /></td>\n",
    "        <td><img src=\"https://www.cs.toronto.edu/~kriz/cifar-10-sample/horse6.png\" class=\"cifar-sample\" /></td>\n",
    "        <td><img src=\"https://www.cs.toronto.edu/~kriz/cifar-10-sample/horse7.png\" class=\"cifar-sample\" /></td>\n",
    "        <td><img src=\"https://www.cs.toronto.edu/~kriz/cifar-10-sample/horse8.png\" class=\"cifar-sample\" /></td>\n",
    "        <td><img src=\"https://www.cs.toronto.edu/~kriz/cifar-10-sample/horse9.png\" class=\"cifar-sample\" /></td>\n",
    "        <td><img src=\"https://www.cs.toronto.edu/~kriz/cifar-10-sample/horse10.png\" class=\"cifar-sample\" /></td>\n",
    "    </tr>\n",
    "    <tr>\n",
    "        <td class=\"cifar-class-name\">ship</td>\n",
    "        <td><img src=\"https://www.cs.toronto.edu/~kriz/cifar-10-sample/ship1.png\" class=\"cifar-sample\" /></td>\n",
    "        <td><img src=\"https://www.cs.toronto.edu/~kriz/cifar-10-sample/ship2.png\" class=\"cifar-sample\" /></td>\n",
    "        <td><img src=\"https://www.cs.toronto.edu/~kriz/cifar-10-sample/ship3.png\" class=\"cifar-sample\" /></td>\n",
    "        <td><img src=\"https://www.cs.toronto.edu/~kriz/cifar-10-sample/ship4.png\" class=\"cifar-sample\" /></td>\n",
    "        <td><img src=\"https://www.cs.toronto.edu/~kriz/cifar-10-sample/ship5.png\" class=\"cifar-sample\" /></td>\n",
    "        <td><img src=\"https://www.cs.toronto.edu/~kriz/cifar-10-sample/ship6.png\" class=\"cifar-sample\" /></td>\n",
    "        <td><img src=\"https://www.cs.toronto.edu/~kriz/cifar-10-sample/ship7.png\" class=\"cifar-sample\" /></td>\n",
    "        <td><img src=\"https://www.cs.toronto.edu/~kriz/cifar-10-sample/ship8.png\" class=\"cifar-sample\" /></td>\n",
    "        <td><img src=\"https://www.cs.toronto.edu/~kriz/cifar-10-sample/ship9.png\" class=\"cifar-sample\" /></td>\n",
    "        <td><img src=\"https://www.cs.toronto.edu/~kriz/cifar-10-sample/ship10.png\" class=\"cifar-sample\" /></td>\n",
    "    </tr>\n",
    "    <tr>\n",
    "        <td class=\"cifar-class-name\">truck</td>\n",
    "        <td><img src=\"https://www.cs.toronto.edu/~kriz/cifar-10-sample/truck1.png\" class=\"cifar-sample\" /></td>\n",
    "        <td><img src=\"https://www.cs.toronto.edu/~kriz/cifar-10-sample/truck2.png\" class=\"cifar-sample\" /></td>\n",
    "        <td><img src=\"https://www.cs.toronto.edu/~kriz/cifar-10-sample/truck3.png\" class=\"cifar-sample\" /></td>\n",
    "        <td><img src=\"https://www.cs.toronto.edu/~kriz/cifar-10-sample/truck4.png\" class=\"cifar-sample\" /></td>\n",
    "        <td><img src=\"https://www.cs.toronto.edu/~kriz/cifar-10-sample/truck5.png\" class=\"cifar-sample\" /></td>\n",
    "        <td><img src=\"https://www.cs.toronto.edu/~kriz/cifar-10-sample/truck6.png\" class=\"cifar-sample\" /></td>\n",
    "        <td><img src=\"https://www.cs.toronto.edu/~kriz/cifar-10-sample/truck7.png\" class=\"cifar-sample\" /></td>\n",
    "        <td><img src=\"https://www.cs.toronto.edu/~kriz/cifar-10-sample/truck8.png\" class=\"cifar-sample\" /></td>\n",
    "        <td><img src=\"https://www.cs.toronto.edu/~kriz/cifar-10-sample/truck9.png\" class=\"cifar-sample\" /></td>\n",
    "        <td><img src=\"https://www.cs.toronto.edu/~kriz/cifar-10-sample/truck10.png\" class=\"cifar-sample\" /></td>\n",
    "    </tr>\n",
    "</table>\n",
    "\n",
    "(Visualization from [Alex Krizhevsky](https://www.cs.toronto.edu/~kriz/cifar.html))\n",
    "\n",
    "## Rules\n",
    "\n",
    "You are free to use any deep learning model and any code that we used in the lab courses or that you may find online, but you have to be able to explain what that code does. You have to implement your code in **Pytorch**, no other framework is allowed. Also, you have to utilize a model that learns from the data (memorizing the test set labels does not count). Achieving a high accuracy in this assignment is not necessarily required for a good grade (but it helps a little bit). Instead, it is more important that the method is implemented properly and the results are presented well. This includes a proper analysis of the results and the choice of hyperparameters should be justified.    \n",
    "\n",
    "You are required to submit a working Notebook with your code by the time of the deadline. It is required that you evaluate your model on the entire test data set with the accuracy metric."
   ]
  },
  {
   "cell_type": "markdown",
   "metadata": {},
   "source": [
    "<hr>\n",
    "\n",
    "# Setup\n",
    "\n",
    "First, we import some important Python modules and setup our Python environment. Feel free to add more modules if you need them."
   ]
  },
  {
   "cell_type": "code",
   "execution_count": null,
   "metadata": {},
   "outputs": [],
   "source": [
    "# ignore warnings\n",
    "import warnings\n",
    "warnings.filterwarnings('ignore')\n",
    "\n",
    "# we will use torchvision to access CiFAR-10\n",
    "import torchvision\n",
    "\n",
    "# some useful imports\n",
    "import os\n",
    "import numpy as np\n",
    "import matplotlib.pyplot as plt \n",
    "\n",
    "# set a seed value for the random number generator\n",
    "seed_value = 42\n",
    "np.random.seed(seed_value) # set numpy seed"
   ]
  },
  {
   "cell_type": "markdown",
   "metadata": {},
   "source": [
    "If you use Google Colab, you can mount your Google Drive to your Notebook environment. This allows you to save your Notebook, data, and trained models permanently. Run the following code cell to mount your Google Drive."
   ]
  },
  {
   "cell_type": "code",
   "execution_count": null,
   "metadata": {},
   "outputs": [],
   "source": [
    "from google.colab import drive\n",
    "drive.mount('/content/drive')\n",
    "os.chdir('/content/drive/MyDrive/Colab Notebooks/')"
   ]
  },
  {
   "cell_type": "markdown",
   "metadata": {},
   "source": [
    "Irrespective of whether you mounted your Google Drive or not, we create some directories for storing the data and the trained model instances."
   ]
  },
  {
   "cell_type": "code",
   "execution_count": null,
   "metadata": {},
   "outputs": [],
   "source": [
    "if not os.path.exists('./data'): os.makedirs('./data')  # create data directory\n",
    "if not os.path.exists('./models'): os.makedirs('./models')  # create trained models directory"
   ]
  },
  {
   "cell_type": "markdown",
   "metadata": {},
   "source": [
    "# Data Download and Access"
   ]
  },
  {
   "cell_type": "markdown",
   "metadata": {},
   "source": [
    "We now download the CiFAR-10 data set. \n",
    "\n",
    "The **CIFAR-10 database** (**C**anadian **I**nstitute **F**or **A**dvanced **R**esearch) is a collection of images that are commonly used to train machine learning and computer vision algorithms. Details on the dataset can be obtained in [Krizhevsky, A., 2009. \"Learning Multiple Layers of Features from Tiny Images\"](https://www.cs.toronto.edu/~kriz/learning-features-2009-TR.pdf) or the [data set website](https://www.cs.toronto.edu/~kriz/cifar.html).\n",
    "\n",
    "The CIFAR-10 database contains **60,000 color images** (50,000 training images and 10,000 validation images). The size of each image is 32 by 32 pixels. The collection of images encompasses 10 different classes that represent airplanes, cars, birds, cats, deer, dogs, frogs, horses, ships, and trucks. Therefore, the dataset contains 6,000 images for each of the ten classes. \n",
    "\n",
    "Let's download, transform and inspect the training and test data sets:"
   ]
  },
  {
   "cell_type": "code",
   "execution_count": null,
   "metadata": {},
   "outputs": [],
   "source": [
    "# define paths to data sets\n",
    "train_path = './data/train_cifar10'\n",
    "test_path = './data/test_cifar10'\n",
    "\n",
    "# download and transform training images\n",
    "cifar10_train = torchvision.datasets.CIFAR10(root=train_path, train=True, download=True) if not os.path.exists(train_path) else torchvision.datasets.CIFAR10(root=train_path, train=True, transform=transf, download=False)\n",
    "cifar10_test = torchvision.datasets.CIFAR10(root=test_path, train=False, download=True) if not os.path.exists(test_path) else torchvision.datasets.CIFAR10(root=test_path, train=False, transform=transf, download=False)\n",
    "\n",
    "# extract data and labels\n",
    "cifar10_train_data = cifar10_train.data\n",
    "cifar10_train_labels = cifar10_train.targets\n",
    "cifar10_test_data = cifar10_test.data\n",
    "cifar10_test_labels = cifar10_test.targets\n",
    "\n",
    "# extract class labels\n",
    "cifar10_classes = cifar10_train.classes\n"
   ]
  },
  {
   "cell_type": "markdown",
   "metadata": {},
   "source": [
    "Check whether the data sets are complete and have a look at their shape:"
   ]
  },
  {
   "cell_type": "code",
   "execution_count": null,
   "metadata": {},
   "outputs": [],
   "source": [
    "cifar10_train_data.shape, cifar10_test_data.shape"
   ]
  },
  {
   "cell_type": "markdown",
   "metadata": {},
   "source": [
    "Looks good, we have 50000 training images and 10000 test images. Each image has $32\\times32$ pixels and 3 channels (RGB). Let's extract a single image:"
   ]
  },
  {
   "cell_type": "code",
   "execution_count": null,
   "metadata": {},
   "outputs": [],
   "source": [
    "cifar10_train_data[100]"
   ]
  },
  {
   "cell_type": "markdown",
   "metadata": {},
   "source": [
    "Let's plot this image with matplotlib:"
   ]
  },
  {
   "cell_type": "code",
   "execution_count": null,
   "metadata": {},
   "outputs": [],
   "source": [
    "plt.imshow(cifar10_train_data[1000])"
   ]
  },
  {
   "cell_type": "markdown",
   "metadata": {},
   "source": [
    "This looks like a truck. Let's check the actual image label:"
   ]
  },
  {
   "cell_type": "code",
   "execution_count": null,
   "metadata": {},
   "outputs": [],
   "source": [
    "cifar10_classes[cifar10_train_labels[1000]]"
   ]
  },
  {
   "cell_type": "markdown",
   "metadata": {},
   "source": [
    "Indeed, this is a truck. No go out and train a model to classify these images!"
   ]
  },
  {
   "cell_type": "markdown",
   "metadata": {},
   "source": [
    "<hr>\n",
    "\n",
    "# Team\n",
    "\n",
    "Please enter here the names of students that worked on this Notebook:\n",
    "* XXX\n",
    "* YYY\n",
    "* ZZZ"
   ]
  },
  {
   "cell_type": "markdown",
   "metadata": {},
   "source": [
    "<hr>\n",
    "\n",
    "# Implementation"
   ]
  },
  {
   "cell_type": "code",
   "execution_count": null,
   "metadata": {},
   "outputs": [],
   "source": [
    "# add your implementation here"
   ]
  }
 ],
 "metadata": {
  "interpreter": {
   "hash": "8a759edab9623fec557173fc5dc3172aac588fd51e2e191f985f3e24b521fb85"
  },
  "kernelspec": {
   "display_name": "Python 3.7.9 ('base')",
   "language": "python",
   "name": "python3"
  },
  "language_info": {
   "codemirror_mode": {
    "name": "ipython",
    "version": 3
   },
   "file_extension": ".py",
   "mimetype": "text/x-python",
   "name": "python",
   "nbconvert_exporter": "python",
   "pygments_lexer": "ipython3",
   "version": "3.7.9"
  },
  "orig_nbformat": 4
 },
 "nbformat": 4,
 "nbformat_minor": 2
}
